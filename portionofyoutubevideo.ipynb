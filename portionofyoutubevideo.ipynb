{
  "nbformat": 4,
  "nbformat_minor": 0,
  "metadata": {
    "colab": {
      "name": "portionofyoutubevideo.ipynb",
      "provenance": [],
      "collapsed_sections": [],
      "authorship_tag": "ABX9TyO3jE9Hck3yOxNhcCic4MXG",
      "include_colab_link": true
    },
    "kernelspec": {
      "name": "python3",
      "display_name": "Python 3"
    },
    "language_info": {
      "name": "python"
    }
  },
  "cells": [
    {
      "cell_type": "markdown",
      "metadata": {
        "id": "view-in-github",
        "colab_type": "text"
      },
      "source": [
        "<a href=\"https://colab.research.google.com/github/anmeex/Portion-of-youtube/blob/main/portionofyoutubevideo.ipynb\" target=\"_parent\"><img src=\"https://colab.research.google.com/assets/colab-badge.svg\" alt=\"Open In Colab\"/></a>"
      ]
    },
    {
      "cell_type": "markdown",
      "metadata": {
        "id": "D0LXRrChA8pt"
      },
      "source": [
        "**PASTE YOUR YOUTUBE VIDEO LINK AND RUN**\n",
        "\n",
        "\n",
        "\n",
        "\n",
        "\n",
        "---\n",
        "\n"
      ]
    },
    {
      "cell_type": "code",
      "metadata": {
        "id": "9aJ2Hp9h_lCP"
      },
      "source": [
        "#@title Paste your youtube link here\n",
        "! pip install youtube-dl\n",
        "! pip install ffmpeg\n",
        "\n",
        "import youtube_dl\n",
        "youtubelink    = \"\" #@param {type:\"string\"}\n",
        "print(youtubelink)"
      ],
      "execution_count": null,
      "outputs": []
    },
    {
      "cell_type": "markdown",
      "metadata": {
        "id": "vwm3uqTCChlZ"
      },
      "source": [
        "**RUN THIS CELL TO CHECK THE FORMAT CODES**\n",
        "\n",
        "---\n",
        "          Format codes are in the left.\n",
        "\n",
        "          LIMITATIONS : Max 1920 X 1080\n",
        "\n"
      ]
    },
    {
      "cell_type": "code",
      "metadata": {
        "id": "RdChAZV2BiX8"
      },
      "source": [
        "!youtube-dl -F \"{youtubelink}\""
      ],
      "execution_count": null,
      "outputs": []
    },
    {
      "cell_type": "markdown",
      "metadata": {
        "id": "X8bEIzRZDcLc"
      },
      "source": [
        "**CHOOSE THE BEST FORMAT**\n",
        "\n",
        "---\n",
        "\n",
        "\n",
        "(i.e At the end in the list)\n",
        "\n",
        "It already contains both video and audio.\n",
        "\n",
        "most of time best format codes are **22 or 18**\n",
        "\n",
        "!youtube-dl --get-url -f ***formatcode*** youtubelink\n",
        "\n"
      ]
    },
    {
      "cell_type": "code",
      "metadata": {
        "id": "edGkx2jan7F5"
      },
      "source": [
        "format_code =  22#@param {type:\"number\"}"
      ],
      "execution_count": 57,
      "outputs": []
    },
    {
      "cell_type": "markdown",
      "metadata": {
        "id": "DgXI_hMzJUrw"
      },
      "source": [
        "**INPUT THE START AND END TIME**\n",
        "\n",
        "\n",
        "---\n",
        "***Warning*** :- DO NOT PUT \"0\" BEFORE NUMBERS\n",
        "\n",
        "                  FOR EXAMPLE 01,02,03 **(DONT DO THIS)**\n",
        "\n",
        "                  INSTEAD 1,2,3 **(DO THIS)**\n",
        "\n"
      ]
    },
    {
      "cell_type": "code",
      "metadata": {
        "id": "aw5lgeRbubeF"
      },
      "source": [
        "#@title Date fields\n",
        "import datetime\n",
        "\n",
        "#@markdown **Start time**\n",
        "start_time_hour =  0#@param {type:\"number\"} \n",
        "start_time_minute =  0#@param {type:\"number\"}\n",
        "start_time_second =   20#@param {type:\"number\"}\n",
        "\n",
        "#@markdown **End time**\n",
        "\n",
        "end_time_hour =  0#@param {type:\"number\"} \n",
        "end_time_minute =  0#@param {type:\"number\"}\n",
        "end_time_second =  30#@param {type:\"number\"}\n",
        "\n",
        "startTime = datetime.time(start_time_hour,start_time_minute,start_time_second)\n",
        "endTime = datetime.time(end_time_hour,end_time_minute,end_time_second)\n",
        "\n",
        "diff = datetime.timedelta(hours=(endTime.hour-startTime.hour),minutes=(endTime.minute-startTime.minute),seconds=(endTime.second-startTime.second))\n",
        "print(diff)"
      ],
      "execution_count": null,
      "outputs": []
    },
    {
      "cell_type": "markdown",
      "metadata": {
        "id": "lgKvYd5BLD_4"
      },
      "source": [
        "**RUN THIS CELL TO DOWNLOAD THE PORTION OF VIDEO**\n",
        "\n",
        "THE DOWNLOADED FILE WILL BE IN THE **FILES TAB** \n",
        "\n",
        "\n",
        "---\n",
        "\n",
        "\n"
      ]
    },
    {
      "cell_type": "code",
      "metadata": {
        "id": "6nWvmdYalnQT"
      },
      "source": [
        "!ffmpeg -ss {startTime} -i \"$(youtube-dl --get-url -f {format_code} {youtubelink})\" -t {diff} -c:v libx264 -c:a aac output.mp4"
      ],
      "execution_count": null,
      "outputs": []
    },
    {
      "cell_type": "markdown",
      "metadata": {
        "id": "yr73qRtNAsJo"
      },
      "source": [
        "\n",
        "\n",
        "---\n",
        "\n",
        "\n",
        "\n",
        "---\n",
        "\n",
        "\n",
        "\n",
        "---\n",
        "\n",
        "\n",
        "\n",
        "---\n",
        "\n",
        "\n",
        "\n",
        "---\n",
        "\n",
        "\n",
        "\n",
        "---\n",
        "\n",
        "---\n",
        "\n",
        "\n",
        "\n",
        "---\n",
        "\n",
        "\n",
        "\n",
        "---\n",
        "\n",
        "\n",
        "\n",
        "---\n",
        "\n",
        "\n",
        "\n",
        "---\n",
        "\n",
        "\n",
        "\n",
        "---\n",
        "\n",
        "\n",
        "\n",
        "---\n",
        "\n",
        "\n",
        "\n",
        "---\n",
        "\n",
        "\n",
        "\n",
        "---\n",
        "\n",
        "\n",
        "\n",
        "---\n",
        "\n",
        "\n",
        "\n",
        "---\n",
        "\n",
        "\n",
        "\n",
        "---\n",
        "\n",
        "\n",
        "\n",
        "---\n",
        "\n",
        "\n",
        "\n",
        "---\n",
        "\n",
        "\n",
        "\n",
        "---\n",
        "\n",
        "\n",
        "\n",
        "\n",
        "\n",
        "---\n",
        "\n",
        "\n",
        "\n",
        "---\n",
        "\n",
        "\n",
        "\n",
        "---\n",
        "\n",
        "\n",
        "\n",
        "---\n",
        "\n"
      ]
    },
    {
      "cell_type": "markdown",
      "metadata": {
        "id": "sePlykJaQhYJ"
      },
      "source": [
        "**IF YOU ARE NOT SATISFY WITH THE BEST FORMAT**\n",
        "\n",
        "choose ***format codes*** for video only and audio only separately\n",
        "\n",
        "          Format codes are in the left.\n",
        "\n",
        "          LIMITATIONS : Max 1920 X 1080"
      ]
    },
    {
      "cell_type": "code",
      "metadata": {
        "id": "lGM2uLaQRpfe"
      },
      "source": [
        "!youtube-dl -F \"{youtubelink}\""
      ],
      "execution_count": null,
      "outputs": []
    },
    {
      "cell_type": "markdown",
      "metadata": {
        "id": "-KulHGkFNFBP"
      },
      "source": [
        "**ASSIGN THE FORMAT CODE FOR VIDEO ONLY**\n",
        "\n",
        "\n",
        "---\n",
        "\n",
        "\n",
        "\n",
        "find the format code for video only from the list and change it in\n",
        "\n",
        "!youtube-dl --get-url -f **FormatCodeForVideoOnly** {youtubelink}"
      ]
    },
    {
      "cell_type": "code",
      "metadata": {
        "id": "E_x9T2pPxei5"
      },
      "source": [
        "format_code_video_only =  299#@param {type:\"number\"} "
      ],
      "execution_count": 53,
      "outputs": []
    },
    {
      "cell_type": "markdown",
      "metadata": {
        "id": "gBHzK_m4NipT"
      },
      "source": [
        "**ASSIGN THE FORMAT CODE FOR AUDIO ONLY**\n",
        "\n",
        "\n",
        "---\n",
        "\n",
        "\n",
        "find the format code for audio only from the list and change it in\n",
        "\n",
        "!youtube-dl --get-url -f **FormatCodeforAudioOnly** {youtubelink}"
      ]
    },
    {
      "cell_type": "code",
      "metadata": {
        "id": "EA56w6NwAe6V"
      },
      "source": [
        "format_code_audio_only =  140#@param {type:\"number\"} "
      ],
      "execution_count": 49,
      "outputs": []
    },
    {
      "cell_type": "markdown",
      "metadata": {
        "id": "vekuZ7v_N6UO"
      },
      "source": [
        "**RUN THIS CELL TO MERGE AUDIO-VIDEO AND DOWNLOAD THE PORTION OF VIDEO**\n",
        "\n",
        "\n",
        "---\n",
        "\n",
        "\n"
      ]
    },
    {
      "cell_type": "code",
      "metadata": {
        "id": "MGjttPHL6pxE"
      },
      "source": [
        "!ffmpeg -ss {startTime} -i \"$(youtube-dl --get-url -f {format_code_video_only} {youtubelink})\" -ss {startTime} -i \"$(youtube-dl --get-url -f {format_code_audio_only} {youtubelink})\" -t {diff} -map 0:v -map 1:a -c:v libx264 -c:a aac MERGED.mp4"
      ],
      "execution_count": null,
      "outputs": []
    }
  ]
}